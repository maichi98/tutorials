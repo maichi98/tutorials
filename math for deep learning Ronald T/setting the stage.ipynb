{
 "cells": [
  {
   "cell_type": "code",
   "execution_count": 2,
   "id": "4c21967f-217b-4bc9-a5f8-c38dc1ffc055",
   "metadata": {},
   "outputs": [
    {
     "data": {
      "text/plain": [
       "'1.26.4'"
      ]
     },
     "execution_count": 2,
     "metadata": {},
     "output_type": "execute_result"
    }
   ],
   "source": [
    "import numpy as np\n",
    "# numpy version : \n",
    "np.__version__"
   ]
  },
  {
   "cell_type": "code",
   "execution_count": 13,
   "id": "30084b65-8c03-4ef8-bea2-cc7b88dcfd25",
   "metadata": {},
   "outputs": [],
   "source": [
    "import sys"
   ]
  },
  {
   "cell_type": "markdown",
   "id": "eef159de-ac1f-4e86-92f2-8707cd23f869",
   "metadata": {
    "jp-MarkdownHeadingCollapsed": true
   },
   "source": [
    "## 1. Defining arrays : "
   ]
  },
  {
   "cell_type": "code",
   "execution_count": 3,
   "id": "540f6968-10e5-4609-82b6-008b5c936e90",
   "metadata": {},
   "outputs": [
    {
     "data": {
      "text/plain": [
       "array([1, 2, 3, 4])"
      ]
     },
     "execution_count": 3,
     "metadata": {},
     "output_type": "execute_result"
    }
   ],
   "source": [
    "a = np.array([1, 2, 3, 4])\n",
    "a"
   ]
  },
  {
   "cell_type": "code",
   "execution_count": 4,
   "id": "47b5c3e2-6b5f-4ba0-97ac-7e3c2664198b",
   "metadata": {},
   "outputs": [
    {
     "data": {
      "text/plain": [
       "4"
      ]
     },
     "execution_count": 4,
     "metadata": {},
     "output_type": "execute_result"
    }
   ],
   "source": [
    "a.size"
   ]
  },
  {
   "cell_type": "code",
   "execution_count": 5,
   "id": "8cdf5d76-d870-4a3a-9f71-d28ddbe79a1a",
   "metadata": {},
   "outputs": [
    {
     "data": {
      "text/plain": [
       "(4,)"
      ]
     },
     "execution_count": 5,
     "metadata": {},
     "output_type": "execute_result"
    }
   ],
   "source": [
    "a.shape"
   ]
  },
  {
   "cell_type": "code",
   "execution_count": 6,
   "id": "f8f26a4e-c1e3-4acf-80da-2a83dd8a3106",
   "metadata": {},
   "outputs": [
    {
     "data": {
      "text/plain": [
       "dtype('int32')"
      ]
     },
     "execution_count": 6,
     "metadata": {},
     "output_type": "execute_result"
    }
   ],
   "source": [
    "a.dtype"
   ]
  },
  {
   "cell_type": "code",
   "execution_count": 8,
   "id": "a208de47-ab0f-4cbc-b95e-7211c99dabad",
   "metadata": {},
   "outputs": [
    {
     "name": "stdout",
     "output_type": "stream",
     "text": [
      "[[1 2 3 4]\n",
      " [5 6 7 8]]\n"
     ]
    },
    {
     "data": {
      "text/plain": [
       "(2, 4)"
      ]
     },
     "execution_count": 8,
     "metadata": {},
     "output_type": "execute_result"
    }
   ],
   "source": [
    "b = np.array([[1, 2, 3, 4], [5, 6, 7, 8]])\n",
    "print(b)\n",
    "b.shape"
   ]
  },
  {
   "cell_type": "markdown",
   "id": "02fdb1e0-f07d-4a4b-be6b-486340ec374f",
   "metadata": {
    "jp-MarkdownHeadingCollapsed": true
   },
   "source": [
    "## 2. Data Types : "
   ]
  },
  {
   "cell_type": "code",
   "execution_count": 15,
   "id": "300f88d6-e303-4315-88b5-c7a81b1a25ab",
   "metadata": {},
   "outputs": [
    {
     "data": {
      "text/plain": [
       "116"
      ]
     },
     "execution_count": 15,
     "metadata": {},
     "output_type": "execute_result"
    }
   ],
   "source": [
    "a = np.array([1, 2, 3, 4], dtype=\"uint8\")\n",
    "sys.getsizeof(a)"
   ]
  },
  {
   "cell_type": "code",
   "execution_count": 16,
   "id": "c0781dd2-3d6e-4431-8f6f-56a75c938737",
   "metadata": {},
   "outputs": [
    {
     "data": {
      "text/plain": [
       "120"
      ]
     },
     "execution_count": 16,
     "metadata": {},
     "output_type": "execute_result"
    }
   ],
   "source": [
    "a = np.array([1, 2, 3, 4], dtype=\"int16\")\n",
    "sys.getsizeof(a)"
   ]
  },
  {
   "cell_type": "code",
   "execution_count": 17,
   "id": "2a3bd7d3-b5f0-4d5c-97bd-0ee3313b002b",
   "metadata": {},
   "outputs": [
    {
     "data": {
      "text/plain": [
       "128"
      ]
     },
     "execution_count": 17,
     "metadata": {},
     "output_type": "execute_result"
    }
   ],
   "source": [
    "a = np.array([1, 2, 3, 4], dtype=\"int32\")\n",
    "sys.getsizeof(a)"
   ]
  },
  {
   "cell_type": "code",
   "execution_count": 19,
   "id": "b6163cab-f9bd-4c50-9554-9f14420ea228",
   "metadata": {},
   "outputs": [
    {
     "name": "stdout",
     "output_type": "stream",
     "text": [
      "float64\n"
     ]
    },
    {
     "data": {
      "text/plain": [
       "144"
      ]
     },
     "execution_count": 19,
     "metadata": {},
     "output_type": "execute_result"
    }
   ],
   "source": [
    "b = np.array([1, 2, 3, 4.0])\n",
    "print(b.dtype)\n",
    "sys.getsizeof(b)"
   ]
  },
  {
   "cell_type": "code",
   "execution_count": 21,
   "id": "4b080599-4a98-4a68-984f-aa944b02ffad",
   "metadata": {},
   "outputs": [
    {
     "data": {
      "text/plain": [
       "128"
      ]
     },
     "execution_count": 21,
     "metadata": {},
     "output_type": "execute_result"
    }
   ],
   "source": [
    "b = np.array([1, 2, 3, 4.0], dtype=\"float32\")\n",
    "sys.getsizeof(b)"
   ]
  },
  {
   "cell_type": "code",
   "execution_count": 22,
   "id": "121dadf8-be90-457f-bd2f-0c0a659a5b04",
   "metadata": {},
   "outputs": [
    {
     "name": "stderr",
     "output_type": "stream",
     "text": [
      "C:\\Users\\maichi\\AppData\\Local\\Temp\\ipykernel_13540\\295331409.py:1: DeprecationWarning: NumPy will stop allowing conversion of out-of-bound Python integers to integer arrays.  The conversion of 333 to uint8 will fail in the future.\n",
      "For the old behavior, usually:\n",
      "    np.array(value).astype(dtype)\n",
      "will give the desired result (the cast overflows).\n",
      "  c = np.array([111, 222, 333, 444], dtype=\"uint8\")\n",
      "C:\\Users\\maichi\\AppData\\Local\\Temp\\ipykernel_13540\\295331409.py:1: DeprecationWarning: NumPy will stop allowing conversion of out-of-bound Python integers to integer arrays.  The conversion of 444 to uint8 will fail in the future.\n",
      "For the old behavior, usually:\n",
      "    np.array(value).astype(dtype)\n",
      "will give the desired result (the cast overflows).\n",
      "  c = np.array([111, 222, 333, 444], dtype=\"uint8\")\n"
     ]
    },
    {
     "data": {
      "text/plain": [
       "array([111, 222,  77, 188], dtype=uint8)"
      ]
     },
     "execution_count": 22,
     "metadata": {},
     "output_type": "execute_result"
    }
   ],
   "source": [
    "c = np.array([111, 222, 333, 444], dtype=\"uint8\")\n",
    "c"
   ]
  },
  {
   "cell_type": "markdown",
   "id": "db7350de-f7cc-4137-ab8d-a5befbfb9123",
   "metadata": {
    "jp-MarkdownHeadingCollapsed": true
   },
   "source": [
    "## 3. 2D Arrays : "
   ]
  },
  {
   "cell_type": "code",
   "execution_count": 24,
   "id": "add1d80d-66a0-4d2d-843c-a790d730d005",
   "metadata": {},
   "outputs": [
    {
     "data": {
      "text/plain": [
       "(3, 3)"
      ]
     },
     "execution_count": 24,
     "metadata": {},
     "output_type": "execute_result"
    }
   ],
   "source": [
    "d = np.array([[1, 2, 3], [4, 5, 6],  [7, 8, 9]])\n",
    "d.shape"
   ]
  },
  {
   "cell_type": "code",
   "execution_count": 25,
   "id": "4643a8af-ae02-4201-b8e3-6a0ed068e90c",
   "metadata": {},
   "outputs": [
    {
     "data": {
      "text/plain": [
       "9"
      ]
     },
     "execution_count": 25,
     "metadata": {},
     "output_type": "execute_result"
    }
   ],
   "source": [
    "d.size"
   ]
  },
  {
   "cell_type": "code",
   "execution_count": 26,
   "id": "4a6db044-f7e3-4786-b9dc-eb6f5669a856",
   "metadata": {},
   "outputs": [
    {
     "data": {
      "text/plain": [
       "array([[1, 2, 3],\n",
       "       [4, 5, 6],\n",
       "       [7, 8, 9]])"
      ]
     },
     "execution_count": 26,
     "metadata": {},
     "output_type": "execute_result"
    }
   ],
   "source": [
    "d"
   ]
  },
  {
   "cell_type": "markdown",
   "id": "9f0f50ac-f0ef-4795-ba4d-e471adc0934e",
   "metadata": {},
   "source": [
    "## 4.  Zeros and Ones : "
   ]
  },
  {
   "cell_type": "code",
   "execution_count": 27,
   "id": "c2bd2453-742e-4d21-90dd-121e871d2571",
   "metadata": {},
   "outputs": [],
   "source": [
    "a = np.ones((3, 4), dtype=\"uint32\")"
   ]
  },
  {
   "cell_type": "code",
   "execution_count": null,
   "id": "7f9718a5-3480-4cc6-bf29-ba3927f76646",
   "metadata": {},
   "outputs": [],
   "source": []
  }
 ],
 "metadata": {
  "kernelspec": {
   "display_name": "Python 3 (ipykernel)",
   "language": "python",
   "name": "python3"
  },
  "language_info": {
   "codemirror_mode": {
    "name": "ipython",
    "version": 3
   },
   "file_extension": ".py",
   "mimetype": "text/x-python",
   "name": "python",
   "nbconvert_exporter": "python",
   "pygments_lexer": "ipython3",
   "version": "3.12.0"
  }
 },
 "nbformat": 4,
 "nbformat_minor": 5
}
